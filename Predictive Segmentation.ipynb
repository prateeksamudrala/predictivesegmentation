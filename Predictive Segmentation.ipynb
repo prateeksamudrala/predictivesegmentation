{
 "cells": [
  {
   "cell_type": "markdown",
   "id": "cd520c87",
   "metadata": {},
   "source": [
    "# Checking file paths and loading data"
   ]
  },
  {
   "cell_type": "code",
   "execution_count": 19,
   "id": "ae1bc31f",
   "metadata": {},
   "outputs": [
    {
     "name": "stdout",
     "output_type": "stream",
     "text": [
      "('Y:\\\\myprojects_gitbacked\\\\predictivesegmentation_dataset', [], ['Test.csv', 'Train.csv'])\n",
      "Test.csv\n",
      "Train.csv\n"
     ]
    }
   ],
   "source": [
    "# Checking data files\n",
    "\n",
    "import os\n",
    "for root in os.walk(\"Y:\\myprojects_gitbacked\\predictivesegmentation_dataset\"):\n",
    "    for filename in filenames:\n",
    "        print(os.path.join(filename))"
   ]
  },
  {
   "cell_type": "code",
   "execution_count": 3,
   "id": "4d4893d6",
   "metadata": {},
   "outputs": [],
   "source": [
    "# loading data\n",
    "import pandas as pd\n",
    "\n",
    "train_data=pd.read_csv(\"Y:\\myprojects_gitbacked\\predictivesegmentation_dataset\\Train.csv\")\n",
    "test_data=pd.read_csv(\"Y:\\myprojects_gitbacked\\predictivesegmentation_dataset\\Test.csv\")"
   ]
  },
  {
   "cell_type": "markdown",
   "id": "467705fa",
   "metadata": {},
   "source": [
    "# Exploratory Data Analysis- Understanding the data"
   ]
  },
  {
   "cell_type": "code",
   "execution_count": 4,
   "id": "baefb517",
   "metadata": {},
   "outputs": [
    {
     "name": "stdout",
     "output_type": "stream",
     "text": [
      "<class 'pandas.core.frame.DataFrame'>\n",
      "RangeIndex: 8068 entries, 0 to 8067\n",
      "Data columns (total 11 columns):\n",
      " #   Column           Non-Null Count  Dtype  \n",
      "---  ------           --------------  -----  \n",
      " 0   ID               8068 non-null   int64  \n",
      " 1   Gender           8068 non-null   object \n",
      " 2   Ever_Married     7928 non-null   object \n",
      " 3   Age              8068 non-null   int64  \n",
      " 4   Graduated        7990 non-null   object \n",
      " 5   Profession       7944 non-null   object \n",
      " 6   Work_Experience  7239 non-null   float64\n",
      " 7   Spending_Score   8068 non-null   object \n",
      " 8   Family_Size      7733 non-null   float64\n",
      " 9   Var_1            7992 non-null   object \n",
      " 10  Segmentation     8068 non-null   object \n",
      "dtypes: float64(2), int64(2), object(7)\n",
      "memory usage: 693.5+ KB\n"
     ]
    }
   ],
   "source": [
    "# \n",
    "train_data.info()"
   ]
  },
  {
   "cell_type": "code",
   "execution_count": null,
   "id": "fa91368f",
   "metadata": {},
   "outputs": [],
   "source": []
  }
 ],
 "metadata": {
  "kernelspec": {
   "display_name": "Python 3 (ipykernel)",
   "language": "python",
   "name": "python3"
  },
  "language_info": {
   "codemirror_mode": {
    "name": "ipython",
    "version": 3
   },
   "file_extension": ".py",
   "mimetype": "text/x-python",
   "name": "python",
   "nbconvert_exporter": "python",
   "pygments_lexer": "ipython3",
   "version": "3.10.8"
  }
 },
 "nbformat": 4,
 "nbformat_minor": 5
}
